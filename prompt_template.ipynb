{
  "nbformat": 4,
  "nbformat_minor": 0,
  "metadata": {
    "colab": {
      "provenance": [],
      "authorship_tag": "ABX9TyOylGWE6+Js7+VAJtmoSRqo",
      "include_colab_link": true
    },
    "kernelspec": {
      "name": "python3",
      "display_name": "Python 3"
    },
    "language_info": {
      "name": "python"
    }
  },
  "cells": [
    {
      "cell_type": "markdown",
      "metadata": {
        "id": "view-in-github",
        "colab_type": "text"
      },
      "source": [
        "<a href=\"https://colab.research.google.com/github/surabhi13gupta/LangChains/blob/main/prompt_template.ipynb\" target=\"_parent\"><img src=\"https://colab.research.google.com/assets/colab-badge.svg\" alt=\"Open In Colab\"/></a>"
      ]
    },
    {
      "cell_type": "code",
      "execution_count": 1,
      "metadata": {
        "colab": {
          "base_uri": "https://localhost:8080/"
        },
        "id": "FQ0pOj93sD1T",
        "outputId": "c3c516be-456e-4367-c5ab-3d0d5f3cb447"
      },
      "outputs": [
        {
          "output_type": "stream",
          "name": "stdout",
          "text": [
            "Collecting langchain_openai\n",
            "  Downloading langchain_openai-0.3.28-py3-none-any.whl.metadata (2.3 kB)\n",
            "Requirement already satisfied: langchain-core<1.0.0,>=0.3.68 in /usr/local/lib/python3.11/dist-packages (from langchain_openai) (0.3.70)\n",
            "Requirement already satisfied: openai<2.0.0,>=1.86.0 in /usr/local/lib/python3.11/dist-packages (from langchain_openai) (1.97.0)\n",
            "Requirement already satisfied: tiktoken<1,>=0.7 in /usr/local/lib/python3.11/dist-packages (from langchain_openai) (0.9.0)\n",
            "Requirement already satisfied: langsmith>=0.3.45 in /usr/local/lib/python3.11/dist-packages (from langchain-core<1.0.0,>=0.3.68->langchain_openai) (0.4.8)\n",
            "Requirement already satisfied: tenacity!=8.4.0,<10.0.0,>=8.1.0 in /usr/local/lib/python3.11/dist-packages (from langchain-core<1.0.0,>=0.3.68->langchain_openai) (8.5.0)\n",
            "Requirement already satisfied: jsonpatch<2.0,>=1.33 in /usr/local/lib/python3.11/dist-packages (from langchain-core<1.0.0,>=0.3.68->langchain_openai) (1.33)\n",
            "Requirement already satisfied: PyYAML>=5.3 in /usr/local/lib/python3.11/dist-packages (from langchain-core<1.0.0,>=0.3.68->langchain_openai) (6.0.2)\n",
            "Requirement already satisfied: typing-extensions>=4.7 in /usr/local/lib/python3.11/dist-packages (from langchain-core<1.0.0,>=0.3.68->langchain_openai) (4.14.1)\n",
            "Requirement already satisfied: packaging>=23.2 in /usr/local/lib/python3.11/dist-packages (from langchain-core<1.0.0,>=0.3.68->langchain_openai) (25.0)\n",
            "Requirement already satisfied: pydantic>=2.7.4 in /usr/local/lib/python3.11/dist-packages (from langchain-core<1.0.0,>=0.3.68->langchain_openai) (2.11.7)\n",
            "Requirement already satisfied: anyio<5,>=3.5.0 in /usr/local/lib/python3.11/dist-packages (from openai<2.0.0,>=1.86.0->langchain_openai) (4.9.0)\n",
            "Requirement already satisfied: distro<2,>=1.7.0 in /usr/local/lib/python3.11/dist-packages (from openai<2.0.0,>=1.86.0->langchain_openai) (1.9.0)\n",
            "Requirement already satisfied: httpx<1,>=0.23.0 in /usr/local/lib/python3.11/dist-packages (from openai<2.0.0,>=1.86.0->langchain_openai) (0.28.1)\n",
            "Requirement already satisfied: jiter<1,>=0.4.0 in /usr/local/lib/python3.11/dist-packages (from openai<2.0.0,>=1.86.0->langchain_openai) (0.10.0)\n",
            "Requirement already satisfied: sniffio in /usr/local/lib/python3.11/dist-packages (from openai<2.0.0,>=1.86.0->langchain_openai) (1.3.1)\n",
            "Requirement already satisfied: tqdm>4 in /usr/local/lib/python3.11/dist-packages (from openai<2.0.0,>=1.86.0->langchain_openai) (4.67.1)\n",
            "Requirement already satisfied: regex>=2022.1.18 in /usr/local/lib/python3.11/dist-packages (from tiktoken<1,>=0.7->langchain_openai) (2024.11.6)\n",
            "Requirement already satisfied: requests>=2.26.0 in /usr/local/lib/python3.11/dist-packages (from tiktoken<1,>=0.7->langchain_openai) (2.32.3)\n",
            "Requirement already satisfied: idna>=2.8 in /usr/local/lib/python3.11/dist-packages (from anyio<5,>=3.5.0->openai<2.0.0,>=1.86.0->langchain_openai) (3.10)\n",
            "Requirement already satisfied: certifi in /usr/local/lib/python3.11/dist-packages (from httpx<1,>=0.23.0->openai<2.0.0,>=1.86.0->langchain_openai) (2025.7.14)\n",
            "Requirement already satisfied: httpcore==1.* in /usr/local/lib/python3.11/dist-packages (from httpx<1,>=0.23.0->openai<2.0.0,>=1.86.0->langchain_openai) (1.0.9)\n",
            "Requirement already satisfied: h11>=0.16 in /usr/local/lib/python3.11/dist-packages (from httpcore==1.*->httpx<1,>=0.23.0->openai<2.0.0,>=1.86.0->langchain_openai) (0.16.0)\n",
            "Requirement already satisfied: jsonpointer>=1.9 in /usr/local/lib/python3.11/dist-packages (from jsonpatch<2.0,>=1.33->langchain-core<1.0.0,>=0.3.68->langchain_openai) (3.0.0)\n",
            "Requirement already satisfied: orjson<4.0.0,>=3.9.14 in /usr/local/lib/python3.11/dist-packages (from langsmith>=0.3.45->langchain-core<1.0.0,>=0.3.68->langchain_openai) (3.11.0)\n",
            "Requirement already satisfied: requests-toolbelt<2.0.0,>=1.0.0 in /usr/local/lib/python3.11/dist-packages (from langsmith>=0.3.45->langchain-core<1.0.0,>=0.3.68->langchain_openai) (1.0.0)\n",
            "Requirement already satisfied: zstandard<0.24.0,>=0.23.0 in /usr/local/lib/python3.11/dist-packages (from langsmith>=0.3.45->langchain-core<1.0.0,>=0.3.68->langchain_openai) (0.23.0)\n",
            "Requirement already satisfied: annotated-types>=0.6.0 in /usr/local/lib/python3.11/dist-packages (from pydantic>=2.7.4->langchain-core<1.0.0,>=0.3.68->langchain_openai) (0.7.0)\n",
            "Requirement already satisfied: pydantic-core==2.33.2 in /usr/local/lib/python3.11/dist-packages (from pydantic>=2.7.4->langchain-core<1.0.0,>=0.3.68->langchain_openai) (2.33.2)\n",
            "Requirement already satisfied: typing-inspection>=0.4.0 in /usr/local/lib/python3.11/dist-packages (from pydantic>=2.7.4->langchain-core<1.0.0,>=0.3.68->langchain_openai) (0.4.1)\n",
            "Requirement already satisfied: charset-normalizer<4,>=2 in /usr/local/lib/python3.11/dist-packages (from requests>=2.26.0->tiktoken<1,>=0.7->langchain_openai) (3.4.2)\n",
            "Requirement already satisfied: urllib3<3,>=1.21.1 in /usr/local/lib/python3.11/dist-packages (from requests>=2.26.0->tiktoken<1,>=0.7->langchain_openai) (2.5.0)\n",
            "Downloading langchain_openai-0.3.28-py3-none-any.whl (70 kB)\n",
            "\u001b[2K   \u001b[90m━━━━━━━━━━━━━━━━━━━━━━━━━━━━━━━━━━━━━━━━\u001b[0m \u001b[32m70.6/70.6 kB\u001b[0m \u001b[31m1.7 MB/s\u001b[0m eta \u001b[36m0:00:00\u001b[0m\n",
            "\u001b[?25hInstalling collected packages: langchain_openai\n",
            "Successfully installed langchain_openai-0.3.28\n"
          ]
        }
      ],
      "source": [
        "!pip install langchain_openai"
      ]
    },
    {
      "cell_type": "code",
      "source": [
        "!pip install langchain_core"
      ],
      "metadata": {
        "colab": {
          "base_uri": "https://localhost:8080/"
        },
        "id": "wRBHnS5EsN-J",
        "outputId": "6a89dcba-958a-42d9-ca88-a819d02992e6"
      },
      "execution_count": 4,
      "outputs": [
        {
          "output_type": "stream",
          "name": "stdout",
          "text": [
            "Requirement already satisfied: langchain_core in /usr/local/lib/python3.11/dist-packages (0.3.70)\n",
            "Requirement already satisfied: langsmith>=0.3.45 in /usr/local/lib/python3.11/dist-packages (from langchain_core) (0.4.8)\n",
            "Requirement already satisfied: tenacity!=8.4.0,<10.0.0,>=8.1.0 in /usr/local/lib/python3.11/dist-packages (from langchain_core) (8.5.0)\n",
            "Requirement already satisfied: jsonpatch<2.0,>=1.33 in /usr/local/lib/python3.11/dist-packages (from langchain_core) (1.33)\n",
            "Requirement already satisfied: PyYAML>=5.3 in /usr/local/lib/python3.11/dist-packages (from langchain_core) (6.0.2)\n",
            "Requirement already satisfied: typing-extensions>=4.7 in /usr/local/lib/python3.11/dist-packages (from langchain_core) (4.14.1)\n",
            "Requirement already satisfied: packaging>=23.2 in /usr/local/lib/python3.11/dist-packages (from langchain_core) (25.0)\n",
            "Requirement already satisfied: pydantic>=2.7.4 in /usr/local/lib/python3.11/dist-packages (from langchain_core) (2.11.7)\n",
            "Requirement already satisfied: jsonpointer>=1.9 in /usr/local/lib/python3.11/dist-packages (from jsonpatch<2.0,>=1.33->langchain_core) (3.0.0)\n",
            "Requirement already satisfied: httpx<1,>=0.23.0 in /usr/local/lib/python3.11/dist-packages (from langsmith>=0.3.45->langchain_core) (0.28.1)\n",
            "Requirement already satisfied: orjson<4.0.0,>=3.9.14 in /usr/local/lib/python3.11/dist-packages (from langsmith>=0.3.45->langchain_core) (3.11.0)\n",
            "Requirement already satisfied: requests<3,>=2 in /usr/local/lib/python3.11/dist-packages (from langsmith>=0.3.45->langchain_core) (2.32.3)\n",
            "Requirement already satisfied: requests-toolbelt<2.0.0,>=1.0.0 in /usr/local/lib/python3.11/dist-packages (from langsmith>=0.3.45->langchain_core) (1.0.0)\n",
            "Requirement already satisfied: zstandard<0.24.0,>=0.23.0 in /usr/local/lib/python3.11/dist-packages (from langsmith>=0.3.45->langchain_core) (0.23.0)\n",
            "Requirement already satisfied: annotated-types>=0.6.0 in /usr/local/lib/python3.11/dist-packages (from pydantic>=2.7.4->langchain_core) (0.7.0)\n",
            "Requirement already satisfied: pydantic-core==2.33.2 in /usr/local/lib/python3.11/dist-packages (from pydantic>=2.7.4->langchain_core) (2.33.2)\n",
            "Requirement already satisfied: typing-inspection>=0.4.0 in /usr/local/lib/python3.11/dist-packages (from pydantic>=2.7.4->langchain_core) (0.4.1)\n",
            "Requirement already satisfied: anyio in /usr/local/lib/python3.11/dist-packages (from httpx<1,>=0.23.0->langsmith>=0.3.45->langchain_core) (4.9.0)\n",
            "Requirement already satisfied: certifi in /usr/local/lib/python3.11/dist-packages (from httpx<1,>=0.23.0->langsmith>=0.3.45->langchain_core) (2025.7.14)\n",
            "Requirement already satisfied: httpcore==1.* in /usr/local/lib/python3.11/dist-packages (from httpx<1,>=0.23.0->langsmith>=0.3.45->langchain_core) (1.0.9)\n",
            "Requirement already satisfied: idna in /usr/local/lib/python3.11/dist-packages (from httpx<1,>=0.23.0->langsmith>=0.3.45->langchain_core) (3.10)\n",
            "Requirement already satisfied: h11>=0.16 in /usr/local/lib/python3.11/dist-packages (from httpcore==1.*->httpx<1,>=0.23.0->langsmith>=0.3.45->langchain_core) (0.16.0)\n",
            "Requirement already satisfied: charset-normalizer<4,>=2 in /usr/local/lib/python3.11/dist-packages (from requests<3,>=2->langsmith>=0.3.45->langchain_core) (3.4.2)\n",
            "Requirement already satisfied: urllib3<3,>=1.21.1 in /usr/local/lib/python3.11/dist-packages (from requests<3,>=2->langsmith>=0.3.45->langchain_core) (2.5.0)\n",
            "Requirement already satisfied: sniffio>=1.1 in /usr/local/lib/python3.11/dist-packages (from anyio->httpx<1,>=0.23.0->langsmith>=0.3.45->langchain_core) (1.3.1)\n"
          ]
        }
      ]
    },
    {
      "cell_type": "code",
      "source": [
        "from google.colab import userdata\n",
        "import os\n",
        "github_token = userdata.get('GITHUB_TOKEN')\n",
        "os.environ['GITHUB_TOKEN'] = github_token"
      ],
      "metadata": {
        "id": "yY69kjNpsKLo"
      },
      "execution_count": 2,
      "outputs": []
    },
    {
      "cell_type": "code",
      "source": [
        "endpoint = \"https://models.github.ai/inference\"\n",
        "model_name = \"openai/gpt-4o-mini\""
      ],
      "metadata": {
        "id": "zXhWu26rsLxb"
      },
      "execution_count": 3,
      "outputs": []
    },
    {
      "cell_type": "code",
      "source": [
        "from langchain_openai import ChatOpenAI\n",
        "from langchain_core.prompts import PromptTemplate"
      ],
      "metadata": {
        "id": "eVHfZ5ZVsNmk"
      },
      "execution_count": 5,
      "outputs": []
    },
    {
      "cell_type": "code",
      "source": [
        "template = PromptTemplate(\n",
        "    template=\"\"\"Tell me about {topic} in 2 lines\"\"\",\n",
        "    input_variables=[\"topic\"]\n",
        ")"
      ],
      "metadata": {
        "id": "m90Y6s4jsagE"
      },
      "execution_count": 9,
      "outputs": []
    },
    {
      "cell_type": "code",
      "source": [
        "prompt = template.invoke({\"topic\": \"cat\"})"
      ],
      "metadata": {
        "id": "CPYNIsLNsf4d"
      },
      "execution_count": 11,
      "outputs": []
    },
    {
      "cell_type": "code",
      "source": [
        "chat_model = ChatOpenAI(\n",
        "    base_url= endpoint,\n",
        "    api_key=github_token,\n",
        "    model=model_name,\n",
        "    max_completion_tokens=100\n",
        ")"
      ],
      "metadata": {
        "id": "x4IibotYtZs4"
      },
      "execution_count": 12,
      "outputs": []
    },
    {
      "cell_type": "code",
      "source": [
        "result = chat_model.invoke(prompt)"
      ],
      "metadata": {
        "id": "N63sAXqytlf0"
      },
      "execution_count": 13,
      "outputs": []
    },
    {
      "cell_type": "code",
      "source": [
        "result.content"
      ],
      "metadata": {
        "colab": {
          "base_uri": "https://localhost:8080/",
          "height": 53
        },
        "id": "tPWxJgQQtpp3",
        "outputId": "ba8a4373-f81f-4d08-93f3-ad4bb17de41b"
      },
      "execution_count": 14,
      "outputs": [
        {
          "output_type": "execute_result",
          "data": {
            "text/plain": [
              "'Cats are agile, independent animals known for their playful behavior and affectionate nature. They have been companions to humans for thousands of years, admired for their grace and mysterious demeanor.'"
            ],
            "application/vnd.google.colaboratory.intrinsic+json": {
              "type": "string"
            }
          },
          "metadata": {},
          "execution_count": 14
        }
      ]
    },
    {
      "cell_type": "markdown",
      "source": [
        "##Validate template - validate whether all placeholder are mentioned or not"
      ],
      "metadata": {
        "id": "qQMWRm6ttyp4"
      }
    },
    {
      "cell_type": "code",
      "source": [
        "template = PromptTemplate(\n",
        "    template=\"\"\"Tell me about {topic} in 2 lines\"\"\",\n",
        "    validate_template=True\n",
        ")"
      ],
      "metadata": {
        "colab": {
          "base_uri": "https://localhost:8080/",
          "height": 408
        },
        "id": "hX2t5E9Stqyv",
        "outputId": "4a93a5ea-f078-4228-b597-a1272f72feb4"
      },
      "execution_count": 17,
      "outputs": [
        {
          "output_type": "error",
          "ename": "ValidationError",
          "evalue": "1 validation error for PromptTemplate\n  Value error, Input variables must be provided to validate the template. [type=value_error, input_value={'template': 'Tell me abo...'partial_variables': {}}, input_type=dict]\n    For further information visit https://errors.pydantic.dev/2.11/v/value_error",
          "traceback": [
            "\u001b[0;31m---------------------------------------------------------------------------\u001b[0m",
            "\u001b[0;31mValidationError\u001b[0m                           Traceback (most recent call last)",
            "\u001b[0;32m/tmp/ipython-input-17-3880946493.py\u001b[0m in \u001b[0;36m<cell line: 0>\u001b[0;34m()\u001b[0m\n\u001b[0;32m----> 1\u001b[0;31m template = PromptTemplate(\n\u001b[0m\u001b[1;32m      2\u001b[0m     \u001b[0mtemplate\u001b[0m\u001b[0;34m=\u001b[0m\u001b[0;34m\"\"\"Tell me about {topic} in 2 lines\"\"\"\u001b[0m\u001b[0;34m,\u001b[0m\u001b[0;34m\u001b[0m\u001b[0;34m\u001b[0m\u001b[0m\n\u001b[1;32m      3\u001b[0m     \u001b[0mvalidate_template\u001b[0m\u001b[0;34m=\u001b[0m\u001b[0;32mTrue\u001b[0m\u001b[0;34m\u001b[0m\u001b[0;34m\u001b[0m\u001b[0m\n\u001b[1;32m      4\u001b[0m )\n",
            "\u001b[0;32m/usr/local/lib/python3.11/dist-packages/langchain_core/load/serializable.py\u001b[0m in \u001b[0;36m__init__\u001b[0;34m(self, *args, **kwargs)\u001b[0m\n\u001b[1;32m    128\u001b[0m     \u001b[0;32mdef\u001b[0m \u001b[0m__init__\u001b[0m\u001b[0;34m(\u001b[0m\u001b[0mself\u001b[0m\u001b[0;34m,\u001b[0m \u001b[0;34m*\u001b[0m\u001b[0margs\u001b[0m\u001b[0;34m:\u001b[0m \u001b[0mAny\u001b[0m\u001b[0;34m,\u001b[0m \u001b[0;34m**\u001b[0m\u001b[0mkwargs\u001b[0m\u001b[0;34m:\u001b[0m \u001b[0mAny\u001b[0m\u001b[0;34m)\u001b[0m \u001b[0;34m->\u001b[0m \u001b[0;32mNone\u001b[0m\u001b[0;34m:\u001b[0m\u001b[0;34m\u001b[0m\u001b[0;34m\u001b[0m\u001b[0m\n\u001b[1;32m    129\u001b[0m         \u001b[0;34m\"\"\"\"\"\"\u001b[0m  \u001b[0;31m# noqa: D419\u001b[0m\u001b[0;34m\u001b[0m\u001b[0;34m\u001b[0m\u001b[0m\n\u001b[0;32m--> 130\u001b[0;31m         \u001b[0msuper\u001b[0m\u001b[0;34m(\u001b[0m\u001b[0;34m)\u001b[0m\u001b[0;34m.\u001b[0m\u001b[0m__init__\u001b[0m\u001b[0;34m(\u001b[0m\u001b[0;34m*\u001b[0m\u001b[0margs\u001b[0m\u001b[0;34m,\u001b[0m \u001b[0;34m**\u001b[0m\u001b[0mkwargs\u001b[0m\u001b[0;34m)\u001b[0m\u001b[0;34m\u001b[0m\u001b[0;34m\u001b[0m\u001b[0m\n\u001b[0m\u001b[1;32m    131\u001b[0m \u001b[0;34m\u001b[0m\u001b[0m\n\u001b[1;32m    132\u001b[0m     \u001b[0;34m@\u001b[0m\u001b[0mclassmethod\u001b[0m\u001b[0;34m\u001b[0m\u001b[0;34m\u001b[0m\u001b[0m\n",
            "\u001b[0;32m/usr/local/lib/python3.11/dist-packages/pydantic/main.py\u001b[0m in \u001b[0;36m__init__\u001b[0;34m(self, **data)\u001b[0m\n\u001b[1;32m    251\u001b[0m         \u001b[0;31m# `__tracebackhide__` tells pytest and some other tools to omit this function from tracebacks\u001b[0m\u001b[0;34m\u001b[0m\u001b[0;34m\u001b[0m\u001b[0m\n\u001b[1;32m    252\u001b[0m         \u001b[0m__tracebackhide__\u001b[0m \u001b[0;34m=\u001b[0m \u001b[0;32mTrue\u001b[0m\u001b[0;34m\u001b[0m\u001b[0;34m\u001b[0m\u001b[0m\n\u001b[0;32m--> 253\u001b[0;31m         \u001b[0mvalidated_self\u001b[0m \u001b[0;34m=\u001b[0m \u001b[0mself\u001b[0m\u001b[0;34m.\u001b[0m\u001b[0m__pydantic_validator__\u001b[0m\u001b[0;34m.\u001b[0m\u001b[0mvalidate_python\u001b[0m\u001b[0;34m(\u001b[0m\u001b[0mdata\u001b[0m\u001b[0;34m,\u001b[0m \u001b[0mself_instance\u001b[0m\u001b[0;34m=\u001b[0m\u001b[0mself\u001b[0m\u001b[0;34m)\u001b[0m\u001b[0;34m\u001b[0m\u001b[0;34m\u001b[0m\u001b[0m\n\u001b[0m\u001b[1;32m    254\u001b[0m         \u001b[0;32mif\u001b[0m \u001b[0mself\u001b[0m \u001b[0;32mis\u001b[0m \u001b[0;32mnot\u001b[0m \u001b[0mvalidated_self\u001b[0m\u001b[0;34m:\u001b[0m\u001b[0;34m\u001b[0m\u001b[0;34m\u001b[0m\u001b[0m\n\u001b[1;32m    255\u001b[0m             warnings.warn(\n",
            "\u001b[0;31mValidationError\u001b[0m: 1 validation error for PromptTemplate\n  Value error, Input variables must be provided to validate the template. [type=value_error, input_value={'template': 'Tell me abo...'partial_variables': {}}, input_type=dict]\n    For further information visit https://errors.pydantic.dev/2.11/v/value_error"
          ]
        }
      ]
    },
    {
      "cell_type": "markdown",
      "source": [
        "##above shows missing input variable  - i.e. placeholder is not taken care"
      ],
      "metadata": {
        "id": "8QdalCfPuQIf"
      }
    },
    {
      "cell_type": "code",
      "source": [
        "template = PromptTemplate(\n",
        "    template=\"\"\"Tell me about {topic} in {numberoflines} lines\"\"\",\n",
        "    input_variables=[\"topic\"],\n",
        "    validate_template=True\n",
        ")"
      ],
      "metadata": {
        "colab": {
          "base_uri": "https://localhost:8080/",
          "height": 426
        },
        "id": "8p9WVsXxuIgo",
        "outputId": "ef9b5603-f93f-4581-d48c-3dec8310a034"
      },
      "execution_count": 18,
      "outputs": [
        {
          "output_type": "error",
          "ename": "ValidationError",
          "evalue": "1 validation error for PromptTemplate\n  Value error, Invalid prompt schema; check for mismatched or missing input parameters from ['topic']. [type=value_error, input_value={'template': 'Tell me abo...'partial_variables': {}}, input_type=dict]\n    For further information visit https://errors.pydantic.dev/2.11/v/value_error",
          "traceback": [
            "\u001b[0;31m---------------------------------------------------------------------------\u001b[0m",
            "\u001b[0;31mValidationError\u001b[0m                           Traceback (most recent call last)",
            "\u001b[0;32m/tmp/ipython-input-18-51350730.py\u001b[0m in \u001b[0;36m<cell line: 0>\u001b[0;34m()\u001b[0m\n\u001b[0;32m----> 1\u001b[0;31m template = PromptTemplate(\n\u001b[0m\u001b[1;32m      2\u001b[0m     \u001b[0mtemplate\u001b[0m\u001b[0;34m=\u001b[0m\u001b[0;34m\"\"\"Tell me about {topic} in {numberoflines} lines\"\"\"\u001b[0m\u001b[0;34m,\u001b[0m\u001b[0;34m\u001b[0m\u001b[0;34m\u001b[0m\u001b[0m\n\u001b[1;32m      3\u001b[0m     \u001b[0minput_variables\u001b[0m\u001b[0;34m=\u001b[0m\u001b[0;34m[\u001b[0m\u001b[0;34m\"topic\"\u001b[0m\u001b[0;34m]\u001b[0m\u001b[0;34m,\u001b[0m\u001b[0;34m\u001b[0m\u001b[0;34m\u001b[0m\u001b[0m\n\u001b[1;32m      4\u001b[0m     \u001b[0mvalidate_template\u001b[0m\u001b[0;34m=\u001b[0m\u001b[0;32mTrue\u001b[0m\u001b[0;34m\u001b[0m\u001b[0;34m\u001b[0m\u001b[0m\n\u001b[1;32m      5\u001b[0m )\n",
            "\u001b[0;32m/usr/local/lib/python3.11/dist-packages/langchain_core/load/serializable.py\u001b[0m in \u001b[0;36m__init__\u001b[0;34m(self, *args, **kwargs)\u001b[0m\n\u001b[1;32m    128\u001b[0m     \u001b[0;32mdef\u001b[0m \u001b[0m__init__\u001b[0m\u001b[0;34m(\u001b[0m\u001b[0mself\u001b[0m\u001b[0;34m,\u001b[0m \u001b[0;34m*\u001b[0m\u001b[0margs\u001b[0m\u001b[0;34m:\u001b[0m \u001b[0mAny\u001b[0m\u001b[0;34m,\u001b[0m \u001b[0;34m**\u001b[0m\u001b[0mkwargs\u001b[0m\u001b[0;34m:\u001b[0m \u001b[0mAny\u001b[0m\u001b[0;34m)\u001b[0m \u001b[0;34m->\u001b[0m \u001b[0;32mNone\u001b[0m\u001b[0;34m:\u001b[0m\u001b[0;34m\u001b[0m\u001b[0;34m\u001b[0m\u001b[0m\n\u001b[1;32m    129\u001b[0m         \u001b[0;34m\"\"\"\"\"\"\u001b[0m  \u001b[0;31m# noqa: D419\u001b[0m\u001b[0;34m\u001b[0m\u001b[0;34m\u001b[0m\u001b[0m\n\u001b[0;32m--> 130\u001b[0;31m         \u001b[0msuper\u001b[0m\u001b[0;34m(\u001b[0m\u001b[0;34m)\u001b[0m\u001b[0;34m.\u001b[0m\u001b[0m__init__\u001b[0m\u001b[0;34m(\u001b[0m\u001b[0;34m*\u001b[0m\u001b[0margs\u001b[0m\u001b[0;34m,\u001b[0m \u001b[0;34m**\u001b[0m\u001b[0mkwargs\u001b[0m\u001b[0;34m)\u001b[0m\u001b[0;34m\u001b[0m\u001b[0;34m\u001b[0m\u001b[0m\n\u001b[0m\u001b[1;32m    131\u001b[0m \u001b[0;34m\u001b[0m\u001b[0m\n\u001b[1;32m    132\u001b[0m     \u001b[0;34m@\u001b[0m\u001b[0mclassmethod\u001b[0m\u001b[0;34m\u001b[0m\u001b[0;34m\u001b[0m\u001b[0m\n",
            "\u001b[0;32m/usr/local/lib/python3.11/dist-packages/pydantic/main.py\u001b[0m in \u001b[0;36m__init__\u001b[0;34m(self, **data)\u001b[0m\n\u001b[1;32m    251\u001b[0m         \u001b[0;31m# `__tracebackhide__` tells pytest and some other tools to omit this function from tracebacks\u001b[0m\u001b[0;34m\u001b[0m\u001b[0;34m\u001b[0m\u001b[0m\n\u001b[1;32m    252\u001b[0m         \u001b[0m__tracebackhide__\u001b[0m \u001b[0;34m=\u001b[0m \u001b[0;32mTrue\u001b[0m\u001b[0;34m\u001b[0m\u001b[0;34m\u001b[0m\u001b[0m\n\u001b[0;32m--> 253\u001b[0;31m         \u001b[0mvalidated_self\u001b[0m \u001b[0;34m=\u001b[0m \u001b[0mself\u001b[0m\u001b[0;34m.\u001b[0m\u001b[0m__pydantic_validator__\u001b[0m\u001b[0;34m.\u001b[0m\u001b[0mvalidate_python\u001b[0m\u001b[0;34m(\u001b[0m\u001b[0mdata\u001b[0m\u001b[0;34m,\u001b[0m \u001b[0mself_instance\u001b[0m\u001b[0;34m=\u001b[0m\u001b[0mself\u001b[0m\u001b[0;34m)\u001b[0m\u001b[0;34m\u001b[0m\u001b[0;34m\u001b[0m\u001b[0m\n\u001b[0m\u001b[1;32m    254\u001b[0m         \u001b[0;32mif\u001b[0m \u001b[0mself\u001b[0m \u001b[0;32mis\u001b[0m \u001b[0;32mnot\u001b[0m \u001b[0mvalidated_self\u001b[0m\u001b[0;34m:\u001b[0m\u001b[0;34m\u001b[0m\u001b[0;34m\u001b[0m\u001b[0m\n\u001b[1;32m    255\u001b[0m             warnings.warn(\n",
            "\u001b[0;31mValidationError\u001b[0m: 1 validation error for PromptTemplate\n  Value error, Invalid prompt schema; check for mismatched or missing input parameters from ['topic']. [type=value_error, input_value={'template': 'Tell me abo...'partial_variables': {}}, input_type=dict]\n    For further information visit https://errors.pydantic.dev/2.11/v/value_error"
          ]
        }
      ]
    },
    {
      "cell_type": "markdown",
      "source": [
        "## again placeholder is not taken care - numberoflines are not passed"
      ],
      "metadata": {
        "id": "0XqJWVlZuVF8"
      }
    },
    {
      "cell_type": "code",
      "source": [
        "template_v1 = PromptTemplate(\n",
        "    template=\"\"\"Tell me about {topic} in 2 lines\"\"\",\n",
        "    input_variables=[\"topic\"]\n",
        ")\n",
        "template_v1.save(\"template.json\")"
      ],
      "metadata": {
        "id": "RIHwJ1gxuOD9"
      },
      "execution_count": 19,
      "outputs": []
    },
    {
      "cell_type": "markdown",
      "source": [
        "![image.png](data:image/png;base64,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)"
      ],
      "metadata": {
        "id": "H5iRDBQpu8cS"
      }
    },
    {
      "cell_type": "markdown",
      "source": [
        "above shows the saved prompt template for reuse purpose"
      ],
      "metadata": {
        "id": "0nLxIDCAu9sz"
      }
    },
    {
      "cell_type": "code",
      "source": [
        "from langchain_core.prompts import load_prompt"
      ],
      "metadata": {
        "id": "xlYPoWPeu2mP"
      },
      "execution_count": 21,
      "outputs": []
    },
    {
      "cell_type": "code",
      "source": [
        "template = load_prompt(\"template.json\")\n",
        "prompt = template.invoke({\"topic\": \"dog\"})"
      ],
      "metadata": {
        "id": "AZR-pGDKvODj"
      },
      "execution_count": 26,
      "outputs": []
    },
    {
      "cell_type": "code",
      "source": [
        "result = chat_model.invoke(prompt)\n",
        "result.content"
      ],
      "metadata": {
        "colab": {
          "base_uri": "https://localhost:8080/",
          "height": 70
        },
        "id": "7voMc1iTvYEG",
        "outputId": "913560f1-b733-4366-adbd-8cf2a2eecb8c"
      },
      "execution_count": 27,
      "outputs": [
        {
          "output_type": "execute_result",
          "data": {
            "text/plain": [
              "'Dogs are loyal and affectionate companions, known for their diverse breeds and roles, from pets to working animals. They are social creatures that thrive on human interaction and provide emotional support and protection.'"
            ],
            "application/vnd.google.colaboratory.intrinsic+json": {
              "type": "string"
            }
          },
          "metadata": {},
          "execution_count": 27
        }
      ]
    },
    {
      "cell_type": "markdown",
      "source": [
        "## Using langchain now"
      ],
      "metadata": {
        "id": "qbgA4YtGvonJ"
      }
    },
    {
      "cell_type": "code",
      "source": [
        "chain = template | chat_model"
      ],
      "metadata": {
        "id": "0dHuKuM2vgMp"
      },
      "execution_count": 29,
      "outputs": []
    },
    {
      "cell_type": "code",
      "source": [
        "result = chain.invoke({\"topic\": \"dog\"})\n",
        "result.content"
      ],
      "metadata": {
        "colab": {
          "base_uri": "https://localhost:8080/",
          "height": 70
        },
        "id": "YttiK8dPvtpz",
        "outputId": "a9f59290-8821-4c8a-ae4d-a689b0000765"
      },
      "execution_count": 30,
      "outputs": [
        {
          "output_type": "execute_result",
          "data": {
            "text/plain": [
              "'Dogs are loyal and affectionate companions known for their playful nature and strong bond with humans. They serve various roles, from family pets to working animals, providing companionship, protection, and assistance.'"
            ],
            "application/vnd.google.colaboratory.intrinsic+json": {
              "type": "string"
            }
          },
          "metadata": {},
          "execution_count": 30
        }
      ]
    },
    {
      "cell_type": "code",
      "source": [],
      "metadata": {
        "id": "IXH-Cz_Gv6DJ"
      },
      "execution_count": null,
      "outputs": []
    }
  ]
}